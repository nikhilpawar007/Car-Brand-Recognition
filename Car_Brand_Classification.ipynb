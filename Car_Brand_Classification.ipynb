{
  "nbformat": 4,
  "nbformat_minor": 0,
  "metadata": {
    "colab": {
      "name": "Car Brand Classification.ipynb",
      "provenance": [],
      "collapsed_sections": []
    },
    "kernelspec": {
      "name": "python3",
      "display_name": "Python 3"
    },
    "language_info": {
      "name": "python"
    },
    "accelerator": "GPU"
  },
  "cells": [
    {
      "cell_type": "code",
      "metadata": {
        "id": "EDWlJX9s0VLm"
      },
      "source": [
        "#Transfer Learning using VGG16 & VGG19"
      ],
      "execution_count": 1,
      "outputs": []
    },
    {
      "cell_type": "code",
      "metadata": {
        "id": "iGqbqLj_0qB3"
      },
      "source": [
        "from tensorflow.keras.layers import Input,Lambda,Dense,Flatten\n",
        "from tensorflow.keras.models import Model\n",
        "from tensorflow.keras.applications.resnet50 import ResNet50\n",
        "from tensorflow.keras.applications.resnet50 import preprocess_input\n",
        "from keras.preprocessing import image\n",
        "from keras.preprocessing.image import ImageDataGenerator, load_img\n",
        "from tensorflow.keras.models import Sequential\n",
        "import numpy as np\n",
        "from glob import glob\n",
        "import matplotlib.pyplot as plt"
      ],
      "execution_count": 2,
      "outputs": []
    },
    {
      "cell_type": "code",
      "metadata": {
        "id": "gjeqKHS49Tz1"
      },
      "source": [
        "import os\n",
        "IMAGE_SIZE = [224, 224]\n",
        "train_path = os.chdir(\"/content/drive/MyDrive/Train\")\n",
        "test_path  = os.chdir(\"/content/drive/MyDrive/Test\")\n"
      ],
      "execution_count": 3,
      "outputs": []
    },
    {
      "cell_type": "code",
      "metadata": {
        "colab": {
          "base_uri": "https://localhost:8080/"
        },
        "id": "bEN3rhBR93F_",
        "outputId": "5572752b-9ed7-44b9-a94d-58628c24c4c6"
      },
      "source": [
        "resnet = ResNet50(input_shape= IMAGE_SIZE +[3], weights='imagenet', include_top=False)"
      ],
      "execution_count": 4,
      "outputs": [
        {
          "output_type": "stream",
          "name": "stdout",
          "text": [
            "Downloading data from https://storage.googleapis.com/tensorflow/keras-applications/resnet/resnet50_weights_tf_dim_ordering_tf_kernels_notop.h5\n",
            "94773248/94765736 [==============================] - 1s 0us/step\n",
            "94781440/94765736 [==============================] - 1s 0us/step\n"
          ]
        }
      ]
    },
    {
      "cell_type": "code",
      "metadata": {
        "id": "PIOFNu9z_39A"
      },
      "source": [
        "for layer in resnet.layers:\n",
        "  layer.trainable = False"
      ],
      "execution_count": 5,
      "outputs": []
    },
    {
      "cell_type": "code",
      "metadata": {
        "id": "eFJ5EtaOAtgB"
      },
      "source": [
        "folders = glob(\"/content/drive/My Drive/Train/*\")"
      ],
      "execution_count": 6,
      "outputs": []
    },
    {
      "cell_type": "code",
      "metadata": {
        "id": "5JAnPtO2A8rf"
      },
      "source": [
        "x = Flatten()(resnet.output)"
      ],
      "execution_count": 7,
      "outputs": []
    },
    {
      "cell_type": "code",
      "metadata": {
        "id": "z1c5KZ_n1mEn"
      },
      "source": [
        "prediction = Dense( len(folders), activation='softmax')(x)\n",
        "\n",
        "model = Model(inputs= resnet.input, outputs=prediction)"
      ],
      "execution_count": 8,
      "outputs": []
    },
    {
      "cell_type": "code",
      "metadata": {
        "colab": {
          "base_uri": "https://localhost:8080/"
        },
        "id": "Z-T6FgO3-erc",
        "outputId": "a4b48437-0c6d-444a-ca13-e4b9daf3121c"
      },
      "source": [
        "model.summary()"
      ],
      "execution_count": 9,
      "outputs": [
        {
          "output_type": "stream",
          "name": "stdout",
          "text": [
            "Model: \"model\"\n",
            "__________________________________________________________________________________________________\n",
            " Layer (type)                   Output Shape         Param #     Connected to                     \n",
            "==================================================================================================\n",
            " input_1 (InputLayer)           [(None, 224, 224, 3  0           []                               \n",
            "                                )]                                                                \n",
            "                                                                                                  \n",
            " conv1_pad (ZeroPadding2D)      (None, 230, 230, 3)  0           ['input_1[0][0]']                \n",
            "                                                                                                  \n",
            " conv1_conv (Conv2D)            (None, 112, 112, 64  9472        ['conv1_pad[0][0]']              \n",
            "                                )                                                                 \n",
            "                                                                                                  \n",
            " conv1_bn (BatchNormalization)  (None, 112, 112, 64  256         ['conv1_conv[0][0]']             \n",
            "                                )                                                                 \n",
            "                                                                                                  \n",
            " conv1_relu (Activation)        (None, 112, 112, 64  0           ['conv1_bn[0][0]']               \n",
            "                                )                                                                 \n",
            "                                                                                                  \n",
            " pool1_pad (ZeroPadding2D)      (None, 114, 114, 64  0           ['conv1_relu[0][0]']             \n",
            "                                )                                                                 \n",
            "                                                                                                  \n",
            " pool1_pool (MaxPooling2D)      (None, 56, 56, 64)   0           ['pool1_pad[0][0]']              \n",
            "                                                                                                  \n",
            " conv2_block1_1_conv (Conv2D)   (None, 56, 56, 64)   4160        ['pool1_pool[0][0]']             \n",
            "                                                                                                  \n",
            " conv2_block1_1_bn (BatchNormal  (None, 56, 56, 64)  256         ['conv2_block1_1_conv[0][0]']    \n",
            " ization)                                                                                         \n",
            "                                                                                                  \n",
            " conv2_block1_1_relu (Activatio  (None, 56, 56, 64)  0           ['conv2_block1_1_bn[0][0]']      \n",
            " n)                                                                                               \n",
            "                                                                                                  \n",
            " conv2_block1_2_conv (Conv2D)   (None, 56, 56, 64)   36928       ['conv2_block1_1_relu[0][0]']    \n",
            "                                                                                                  \n",
            " conv2_block1_2_bn (BatchNormal  (None, 56, 56, 64)  256         ['conv2_block1_2_conv[0][0]']    \n",
            " ization)                                                                                         \n",
            "                                                                                                  \n",
            " conv2_block1_2_relu (Activatio  (None, 56, 56, 64)  0           ['conv2_block1_2_bn[0][0]']      \n",
            " n)                                                                                               \n",
            "                                                                                                  \n",
            " conv2_block1_0_conv (Conv2D)   (None, 56, 56, 256)  16640       ['pool1_pool[0][0]']             \n",
            "                                                                                                  \n",
            " conv2_block1_3_conv (Conv2D)   (None, 56, 56, 256)  16640       ['conv2_block1_2_relu[0][0]']    \n",
            "                                                                                                  \n",
            " conv2_block1_0_bn (BatchNormal  (None, 56, 56, 256)  1024       ['conv2_block1_0_conv[0][0]']    \n",
            " ization)                                                                                         \n",
            "                                                                                                  \n",
            " conv2_block1_3_bn (BatchNormal  (None, 56, 56, 256)  1024       ['conv2_block1_3_conv[0][0]']    \n",
            " ization)                                                                                         \n",
            "                                                                                                  \n",
            " conv2_block1_add (Add)         (None, 56, 56, 256)  0           ['conv2_block1_0_bn[0][0]',      \n",
            "                                                                  'conv2_block1_3_bn[0][0]']      \n",
            "                                                                                                  \n",
            " conv2_block1_out (Activation)  (None, 56, 56, 256)  0           ['conv2_block1_add[0][0]']       \n",
            "                                                                                                  \n",
            " conv2_block2_1_conv (Conv2D)   (None, 56, 56, 64)   16448       ['conv2_block1_out[0][0]']       \n",
            "                                                                                                  \n",
            " conv2_block2_1_bn (BatchNormal  (None, 56, 56, 64)  256         ['conv2_block2_1_conv[0][0]']    \n",
            " ization)                                                                                         \n",
            "                                                                                                  \n",
            " conv2_block2_1_relu (Activatio  (None, 56, 56, 64)  0           ['conv2_block2_1_bn[0][0]']      \n",
            " n)                                                                                               \n",
            "                                                                                                  \n",
            " conv2_block2_2_conv (Conv2D)   (None, 56, 56, 64)   36928       ['conv2_block2_1_relu[0][0]']    \n",
            "                                                                                                  \n",
            " conv2_block2_2_bn (BatchNormal  (None, 56, 56, 64)  256         ['conv2_block2_2_conv[0][0]']    \n",
            " ization)                                                                                         \n",
            "                                                                                                  \n",
            " conv2_block2_2_relu (Activatio  (None, 56, 56, 64)  0           ['conv2_block2_2_bn[0][0]']      \n",
            " n)                                                                                               \n",
            "                                                                                                  \n",
            " conv2_block2_3_conv (Conv2D)   (None, 56, 56, 256)  16640       ['conv2_block2_2_relu[0][0]']    \n",
            "                                                                                                  \n",
            " conv2_block2_3_bn (BatchNormal  (None, 56, 56, 256)  1024       ['conv2_block2_3_conv[0][0]']    \n",
            " ization)                                                                                         \n",
            "                                                                                                  \n",
            " conv2_block2_add (Add)         (None, 56, 56, 256)  0           ['conv2_block1_out[0][0]',       \n",
            "                                                                  'conv2_block2_3_bn[0][0]']      \n",
            "                                                                                                  \n",
            " conv2_block2_out (Activation)  (None, 56, 56, 256)  0           ['conv2_block2_add[0][0]']       \n",
            "                                                                                                  \n",
            " conv2_block3_1_conv (Conv2D)   (None, 56, 56, 64)   16448       ['conv2_block2_out[0][0]']       \n",
            "                                                                                                  \n",
            " conv2_block3_1_bn (BatchNormal  (None, 56, 56, 64)  256         ['conv2_block3_1_conv[0][0]']    \n",
            " ization)                                                                                         \n",
            "                                                                                                  \n",
            " conv2_block3_1_relu (Activatio  (None, 56, 56, 64)  0           ['conv2_block3_1_bn[0][0]']      \n",
            " n)                                                                                               \n",
            "                                                                                                  \n",
            " conv2_block3_2_conv (Conv2D)   (None, 56, 56, 64)   36928       ['conv2_block3_1_relu[0][0]']    \n",
            "                                                                                                  \n",
            " conv2_block3_2_bn (BatchNormal  (None, 56, 56, 64)  256         ['conv2_block3_2_conv[0][0]']    \n",
            " ization)                                                                                         \n",
            "                                                                                                  \n",
            " conv2_block3_2_relu (Activatio  (None, 56, 56, 64)  0           ['conv2_block3_2_bn[0][0]']      \n",
            " n)                                                                                               \n",
            "                                                                                                  \n",
            " conv2_block3_3_conv (Conv2D)   (None, 56, 56, 256)  16640       ['conv2_block3_2_relu[0][0]']    \n",
            "                                                                                                  \n",
            " conv2_block3_3_bn (BatchNormal  (None, 56, 56, 256)  1024       ['conv2_block3_3_conv[0][0]']    \n",
            " ization)                                                                                         \n",
            "                                                                                                  \n",
            " conv2_block3_add (Add)         (None, 56, 56, 256)  0           ['conv2_block2_out[0][0]',       \n",
            "                                                                  'conv2_block3_3_bn[0][0]']      \n",
            "                                                                                                  \n",
            " conv2_block3_out (Activation)  (None, 56, 56, 256)  0           ['conv2_block3_add[0][0]']       \n",
            "                                                                                                  \n",
            " conv3_block1_1_conv (Conv2D)   (None, 28, 28, 128)  32896       ['conv2_block3_out[0][0]']       \n",
            "                                                                                                  \n",
            " conv3_block1_1_bn (BatchNormal  (None, 28, 28, 128)  512        ['conv3_block1_1_conv[0][0]']    \n",
            " ization)                                                                                         \n",
            "                                                                                                  \n",
            " conv3_block1_1_relu (Activatio  (None, 28, 28, 128)  0          ['conv3_block1_1_bn[0][0]']      \n",
            " n)                                                                                               \n",
            "                                                                                                  \n",
            " conv3_block1_2_conv (Conv2D)   (None, 28, 28, 128)  147584      ['conv3_block1_1_relu[0][0]']    \n",
            "                                                                                                  \n",
            " conv3_block1_2_bn (BatchNormal  (None, 28, 28, 128)  512        ['conv3_block1_2_conv[0][0]']    \n",
            " ization)                                                                                         \n",
            "                                                                                                  \n",
            " conv3_block1_2_relu (Activatio  (None, 28, 28, 128)  0          ['conv3_block1_2_bn[0][0]']      \n",
            " n)                                                                                               \n",
            "                                                                                                  \n",
            " conv3_block1_0_conv (Conv2D)   (None, 28, 28, 512)  131584      ['conv2_block3_out[0][0]']       \n",
            "                                                                                                  \n",
            " conv3_block1_3_conv (Conv2D)   (None, 28, 28, 512)  66048       ['conv3_block1_2_relu[0][0]']    \n",
            "                                                                                                  \n",
            " conv3_block1_0_bn (BatchNormal  (None, 28, 28, 512)  2048       ['conv3_block1_0_conv[0][0]']    \n",
            " ization)                                                                                         \n",
            "                                                                                                  \n",
            " conv3_block1_3_bn (BatchNormal  (None, 28, 28, 512)  2048       ['conv3_block1_3_conv[0][0]']    \n",
            " ization)                                                                                         \n",
            "                                                                                                  \n",
            " conv3_block1_add (Add)         (None, 28, 28, 512)  0           ['conv3_block1_0_bn[0][0]',      \n",
            "                                                                  'conv3_block1_3_bn[0][0]']      \n",
            "                                                                                                  \n",
            " conv3_block1_out (Activation)  (None, 28, 28, 512)  0           ['conv3_block1_add[0][0]']       \n",
            "                                                                                                  \n",
            " conv3_block2_1_conv (Conv2D)   (None, 28, 28, 128)  65664       ['conv3_block1_out[0][0]']       \n",
            "                                                                                                  \n",
            " conv3_block2_1_bn (BatchNormal  (None, 28, 28, 128)  512        ['conv3_block2_1_conv[0][0]']    \n",
            " ization)                                                                                         \n",
            "                                                                                                  \n",
            " conv3_block2_1_relu (Activatio  (None, 28, 28, 128)  0          ['conv3_block2_1_bn[0][0]']      \n",
            " n)                                                                                               \n",
            "                                                                                                  \n",
            " conv3_block2_2_conv (Conv2D)   (None, 28, 28, 128)  147584      ['conv3_block2_1_relu[0][0]']    \n",
            "                                                                                                  \n",
            " conv3_block2_2_bn (BatchNormal  (None, 28, 28, 128)  512        ['conv3_block2_2_conv[0][0]']    \n",
            " ization)                                                                                         \n",
            "                                                                                                  \n",
            " conv3_block2_2_relu (Activatio  (None, 28, 28, 128)  0          ['conv3_block2_2_bn[0][0]']      \n",
            " n)                                                                                               \n",
            "                                                                                                  \n",
            " conv3_block2_3_conv (Conv2D)   (None, 28, 28, 512)  66048       ['conv3_block2_2_relu[0][0]']    \n",
            "                                                                                                  \n",
            " conv3_block2_3_bn (BatchNormal  (None, 28, 28, 512)  2048       ['conv3_block2_3_conv[0][0]']    \n",
            " ization)                                                                                         \n",
            "                                                                                                  \n",
            " conv3_block2_add (Add)         (None, 28, 28, 512)  0           ['conv3_block1_out[0][0]',       \n",
            "                                                                  'conv3_block2_3_bn[0][0]']      \n",
            "                                                                                                  \n",
            " conv3_block2_out (Activation)  (None, 28, 28, 512)  0           ['conv3_block2_add[0][0]']       \n",
            "                                                                                                  \n",
            " conv3_block3_1_conv (Conv2D)   (None, 28, 28, 128)  65664       ['conv3_block2_out[0][0]']       \n",
            "                                                                                                  \n",
            " conv3_block3_1_bn (BatchNormal  (None, 28, 28, 128)  512        ['conv3_block3_1_conv[0][0]']    \n",
            " ization)                                                                                         \n",
            "                                                                                                  \n",
            " conv3_block3_1_relu (Activatio  (None, 28, 28, 128)  0          ['conv3_block3_1_bn[0][0]']      \n",
            " n)                                                                                               \n",
            "                                                                                                  \n",
            " conv3_block3_2_conv (Conv2D)   (None, 28, 28, 128)  147584      ['conv3_block3_1_relu[0][0]']    \n",
            "                                                                                                  \n",
            " conv3_block3_2_bn (BatchNormal  (None, 28, 28, 128)  512        ['conv3_block3_2_conv[0][0]']    \n",
            " ization)                                                                                         \n",
            "                                                                                                  \n",
            " conv3_block3_2_relu (Activatio  (None, 28, 28, 128)  0          ['conv3_block3_2_bn[0][0]']      \n",
            " n)                                                                                               \n",
            "                                                                                                  \n",
            " conv3_block3_3_conv (Conv2D)   (None, 28, 28, 512)  66048       ['conv3_block3_2_relu[0][0]']    \n",
            "                                                                                                  \n",
            " conv3_block3_3_bn (BatchNormal  (None, 28, 28, 512)  2048       ['conv3_block3_3_conv[0][0]']    \n",
            " ization)                                                                                         \n",
            "                                                                                                  \n",
            " conv3_block3_add (Add)         (None, 28, 28, 512)  0           ['conv3_block2_out[0][0]',       \n",
            "                                                                  'conv3_block3_3_bn[0][0]']      \n",
            "                                                                                                  \n",
            " conv3_block3_out (Activation)  (None, 28, 28, 512)  0           ['conv3_block3_add[0][0]']       \n",
            "                                                                                                  \n",
            " conv3_block4_1_conv (Conv2D)   (None, 28, 28, 128)  65664       ['conv3_block3_out[0][0]']       \n",
            "                                                                                                  \n",
            " conv3_block4_1_bn (BatchNormal  (None, 28, 28, 128)  512        ['conv3_block4_1_conv[0][0]']    \n",
            " ization)                                                                                         \n",
            "                                                                                                  \n",
            " conv3_block4_1_relu (Activatio  (None, 28, 28, 128)  0          ['conv3_block4_1_bn[0][0]']      \n",
            " n)                                                                                               \n",
            "                                                                                                  \n",
            " conv3_block4_2_conv (Conv2D)   (None, 28, 28, 128)  147584      ['conv3_block4_1_relu[0][0]']    \n",
            "                                                                                                  \n",
            " conv3_block4_2_bn (BatchNormal  (None, 28, 28, 128)  512        ['conv3_block4_2_conv[0][0]']    \n",
            " ization)                                                                                         \n",
            "                                                                                                  \n",
            " conv3_block4_2_relu (Activatio  (None, 28, 28, 128)  0          ['conv3_block4_2_bn[0][0]']      \n",
            " n)                                                                                               \n",
            "                                                                                                  \n",
            " conv3_block4_3_conv (Conv2D)   (None, 28, 28, 512)  66048       ['conv3_block4_2_relu[0][0]']    \n",
            "                                                                                                  \n",
            " conv3_block4_3_bn (BatchNormal  (None, 28, 28, 512)  2048       ['conv3_block4_3_conv[0][0]']    \n",
            " ization)                                                                                         \n",
            "                                                                                                  \n",
            " conv3_block4_add (Add)         (None, 28, 28, 512)  0           ['conv3_block3_out[0][0]',       \n",
            "                                                                  'conv3_block4_3_bn[0][0]']      \n",
            "                                                                                                  \n",
            " conv3_block4_out (Activation)  (None, 28, 28, 512)  0           ['conv3_block4_add[0][0]']       \n",
            "                                                                                                  \n",
            " conv4_block1_1_conv (Conv2D)   (None, 14, 14, 256)  131328      ['conv3_block4_out[0][0]']       \n",
            "                                                                                                  \n",
            " conv4_block1_1_bn (BatchNormal  (None, 14, 14, 256)  1024       ['conv4_block1_1_conv[0][0]']    \n",
            " ization)                                                                                         \n",
            "                                                                                                  \n",
            " conv4_block1_1_relu (Activatio  (None, 14, 14, 256)  0          ['conv4_block1_1_bn[0][0]']      \n",
            " n)                                                                                               \n",
            "                                                                                                  \n",
            " conv4_block1_2_conv (Conv2D)   (None, 14, 14, 256)  590080      ['conv4_block1_1_relu[0][0]']    \n",
            "                                                                                                  \n",
            " conv4_block1_2_bn (BatchNormal  (None, 14, 14, 256)  1024       ['conv4_block1_2_conv[0][0]']    \n",
            " ization)                                                                                         \n",
            "                                                                                                  \n",
            " conv4_block1_2_relu (Activatio  (None, 14, 14, 256)  0          ['conv4_block1_2_bn[0][0]']      \n",
            " n)                                                                                               \n",
            "                                                                                                  \n",
            " conv4_block1_0_conv (Conv2D)   (None, 14, 14, 1024  525312      ['conv3_block4_out[0][0]']       \n",
            "                                )                                                                 \n",
            "                                                                                                  \n",
            " conv4_block1_3_conv (Conv2D)   (None, 14, 14, 1024  263168      ['conv4_block1_2_relu[0][0]']    \n",
            "                                )                                                                 \n",
            "                                                                                                  \n",
            " conv4_block1_0_bn (BatchNormal  (None, 14, 14, 1024  4096       ['conv4_block1_0_conv[0][0]']    \n",
            " ization)                       )                                                                 \n",
            "                                                                                                  \n",
            " conv4_block1_3_bn (BatchNormal  (None, 14, 14, 1024  4096       ['conv4_block1_3_conv[0][0]']    \n",
            " ization)                       )                                                                 \n",
            "                                                                                                  \n",
            " conv4_block1_add (Add)         (None, 14, 14, 1024  0           ['conv4_block1_0_bn[0][0]',      \n",
            "                                )                                 'conv4_block1_3_bn[0][0]']      \n",
            "                                                                                                  \n",
            " conv4_block1_out (Activation)  (None, 14, 14, 1024  0           ['conv4_block1_add[0][0]']       \n",
            "                                )                                                                 \n",
            "                                                                                                  \n",
            " conv4_block2_1_conv (Conv2D)   (None, 14, 14, 256)  262400      ['conv4_block1_out[0][0]']       \n",
            "                                                                                                  \n",
            " conv4_block2_1_bn (BatchNormal  (None, 14, 14, 256)  1024       ['conv4_block2_1_conv[0][0]']    \n",
            " ization)                                                                                         \n",
            "                                                                                                  \n",
            " conv4_block2_1_relu (Activatio  (None, 14, 14, 256)  0          ['conv4_block2_1_bn[0][0]']      \n",
            " n)                                                                                               \n",
            "                                                                                                  \n",
            " conv4_block2_2_conv (Conv2D)   (None, 14, 14, 256)  590080      ['conv4_block2_1_relu[0][0]']    \n",
            "                                                                                                  \n",
            " conv4_block2_2_bn (BatchNormal  (None, 14, 14, 256)  1024       ['conv4_block2_2_conv[0][0]']    \n",
            " ization)                                                                                         \n",
            "                                                                                                  \n",
            " conv4_block2_2_relu (Activatio  (None, 14, 14, 256)  0          ['conv4_block2_2_bn[0][0]']      \n",
            " n)                                                                                               \n",
            "                                                                                                  \n",
            " conv4_block2_3_conv (Conv2D)   (None, 14, 14, 1024  263168      ['conv4_block2_2_relu[0][0]']    \n",
            "                                )                                                                 \n",
            "                                                                                                  \n",
            " conv4_block2_3_bn (BatchNormal  (None, 14, 14, 1024  4096       ['conv4_block2_3_conv[0][0]']    \n",
            " ization)                       )                                                                 \n",
            "                                                                                                  \n",
            " conv4_block2_add (Add)         (None, 14, 14, 1024  0           ['conv4_block1_out[0][0]',       \n",
            "                                )                                 'conv4_block2_3_bn[0][0]']      \n",
            "                                                                                                  \n",
            " conv4_block2_out (Activation)  (None, 14, 14, 1024  0           ['conv4_block2_add[0][0]']       \n",
            "                                )                                                                 \n",
            "                                                                                                  \n",
            " conv4_block3_1_conv (Conv2D)   (None, 14, 14, 256)  262400      ['conv4_block2_out[0][0]']       \n",
            "                                                                                                  \n",
            " conv4_block3_1_bn (BatchNormal  (None, 14, 14, 256)  1024       ['conv4_block3_1_conv[0][0]']    \n",
            " ization)                                                                                         \n",
            "                                                                                                  \n",
            " conv4_block3_1_relu (Activatio  (None, 14, 14, 256)  0          ['conv4_block3_1_bn[0][0]']      \n",
            " n)                                                                                               \n",
            "                                                                                                  \n",
            " conv4_block3_2_conv (Conv2D)   (None, 14, 14, 256)  590080      ['conv4_block3_1_relu[0][0]']    \n",
            "                                                                                                  \n",
            " conv4_block3_2_bn (BatchNormal  (None, 14, 14, 256)  1024       ['conv4_block3_2_conv[0][0]']    \n",
            " ization)                                                                                         \n",
            "                                                                                                  \n",
            " conv4_block3_2_relu (Activatio  (None, 14, 14, 256)  0          ['conv4_block3_2_bn[0][0]']      \n",
            " n)                                                                                               \n",
            "                                                                                                  \n",
            " conv4_block3_3_conv (Conv2D)   (None, 14, 14, 1024  263168      ['conv4_block3_2_relu[0][0]']    \n",
            "                                )                                                                 \n",
            "                                                                                                  \n",
            " conv4_block3_3_bn (BatchNormal  (None, 14, 14, 1024  4096       ['conv4_block3_3_conv[0][0]']    \n",
            " ization)                       )                                                                 \n",
            "                                                                                                  \n",
            " conv4_block3_add (Add)         (None, 14, 14, 1024  0           ['conv4_block2_out[0][0]',       \n",
            "                                )                                 'conv4_block3_3_bn[0][0]']      \n",
            "                                                                                                  \n",
            " conv4_block3_out (Activation)  (None, 14, 14, 1024  0           ['conv4_block3_add[0][0]']       \n",
            "                                )                                                                 \n",
            "                                                                                                  \n",
            " conv4_block4_1_conv (Conv2D)   (None, 14, 14, 256)  262400      ['conv4_block3_out[0][0]']       \n",
            "                                                                                                  \n",
            " conv4_block4_1_bn (BatchNormal  (None, 14, 14, 256)  1024       ['conv4_block4_1_conv[0][0]']    \n",
            " ization)                                                                                         \n",
            "                                                                                                  \n",
            " conv4_block4_1_relu (Activatio  (None, 14, 14, 256)  0          ['conv4_block4_1_bn[0][0]']      \n",
            " n)                                                                                               \n",
            "                                                                                                  \n",
            " conv4_block4_2_conv (Conv2D)   (None, 14, 14, 256)  590080      ['conv4_block4_1_relu[0][0]']    \n",
            "                                                                                                  \n",
            " conv4_block4_2_bn (BatchNormal  (None, 14, 14, 256)  1024       ['conv4_block4_2_conv[0][0]']    \n",
            " ization)                                                                                         \n",
            "                                                                                                  \n",
            " conv4_block4_2_relu (Activatio  (None, 14, 14, 256)  0          ['conv4_block4_2_bn[0][0]']      \n",
            " n)                                                                                               \n",
            "                                                                                                  \n",
            " conv4_block4_3_conv (Conv2D)   (None, 14, 14, 1024  263168      ['conv4_block4_2_relu[0][0]']    \n",
            "                                )                                                                 \n",
            "                                                                                                  \n",
            " conv4_block4_3_bn (BatchNormal  (None, 14, 14, 1024  4096       ['conv4_block4_3_conv[0][0]']    \n",
            " ization)                       )                                                                 \n",
            "                                                                                                  \n",
            " conv4_block4_add (Add)         (None, 14, 14, 1024  0           ['conv4_block3_out[0][0]',       \n",
            "                                )                                 'conv4_block4_3_bn[0][0]']      \n",
            "                                                                                                  \n",
            " conv4_block4_out (Activation)  (None, 14, 14, 1024  0           ['conv4_block4_add[0][0]']       \n",
            "                                )                                                                 \n",
            "                                                                                                  \n",
            " conv4_block5_1_conv (Conv2D)   (None, 14, 14, 256)  262400      ['conv4_block4_out[0][0]']       \n",
            "                                                                                                  \n",
            " conv4_block5_1_bn (BatchNormal  (None, 14, 14, 256)  1024       ['conv4_block5_1_conv[0][0]']    \n",
            " ization)                                                                                         \n",
            "                                                                                                  \n",
            " conv4_block5_1_relu (Activatio  (None, 14, 14, 256)  0          ['conv4_block5_1_bn[0][0]']      \n",
            " n)                                                                                               \n",
            "                                                                                                  \n",
            " conv4_block5_2_conv (Conv2D)   (None, 14, 14, 256)  590080      ['conv4_block5_1_relu[0][0]']    \n",
            "                                                                                                  \n",
            " conv4_block5_2_bn (BatchNormal  (None, 14, 14, 256)  1024       ['conv4_block5_2_conv[0][0]']    \n",
            " ization)                                                                                         \n",
            "                                                                                                  \n",
            " conv4_block5_2_relu (Activatio  (None, 14, 14, 256)  0          ['conv4_block5_2_bn[0][0]']      \n",
            " n)                                                                                               \n",
            "                                                                                                  \n",
            " conv4_block5_3_conv (Conv2D)   (None, 14, 14, 1024  263168      ['conv4_block5_2_relu[0][0]']    \n",
            "                                )                                                                 \n",
            "                                                                                                  \n",
            " conv4_block5_3_bn (BatchNormal  (None, 14, 14, 1024  4096       ['conv4_block5_3_conv[0][0]']    \n",
            " ization)                       )                                                                 \n",
            "                                                                                                  \n",
            " conv4_block5_add (Add)         (None, 14, 14, 1024  0           ['conv4_block4_out[0][0]',       \n",
            "                                )                                 'conv4_block5_3_bn[0][0]']      \n",
            "                                                                                                  \n",
            " conv4_block5_out (Activation)  (None, 14, 14, 1024  0           ['conv4_block5_add[0][0]']       \n",
            "                                )                                                                 \n",
            "                                                                                                  \n",
            " conv4_block6_1_conv (Conv2D)   (None, 14, 14, 256)  262400      ['conv4_block5_out[0][0]']       \n",
            "                                                                                                  \n",
            " conv4_block6_1_bn (BatchNormal  (None, 14, 14, 256)  1024       ['conv4_block6_1_conv[0][0]']    \n",
            " ization)                                                                                         \n",
            "                                                                                                  \n",
            " conv4_block6_1_relu (Activatio  (None, 14, 14, 256)  0          ['conv4_block6_1_bn[0][0]']      \n",
            " n)                                                                                               \n",
            "                                                                                                  \n",
            " conv4_block6_2_conv (Conv2D)   (None, 14, 14, 256)  590080      ['conv4_block6_1_relu[0][0]']    \n",
            "                                                                                                  \n",
            " conv4_block6_2_bn (BatchNormal  (None, 14, 14, 256)  1024       ['conv4_block6_2_conv[0][0]']    \n",
            " ization)                                                                                         \n",
            "                                                                                                  \n",
            " conv4_block6_2_relu (Activatio  (None, 14, 14, 256)  0          ['conv4_block6_2_bn[0][0]']      \n",
            " n)                                                                                               \n",
            "                                                                                                  \n",
            " conv4_block6_3_conv (Conv2D)   (None, 14, 14, 1024  263168      ['conv4_block6_2_relu[0][0]']    \n",
            "                                )                                                                 \n",
            "                                                                                                  \n",
            " conv4_block6_3_bn (BatchNormal  (None, 14, 14, 1024  4096       ['conv4_block6_3_conv[0][0]']    \n",
            " ization)                       )                                                                 \n",
            "                                                                                                  \n",
            " conv4_block6_add (Add)         (None, 14, 14, 1024  0           ['conv4_block5_out[0][0]',       \n",
            "                                )                                 'conv4_block6_3_bn[0][0]']      \n",
            "                                                                                                  \n",
            " conv4_block6_out (Activation)  (None, 14, 14, 1024  0           ['conv4_block6_add[0][0]']       \n",
            "                                )                                                                 \n",
            "                                                                                                  \n",
            " conv5_block1_1_conv (Conv2D)   (None, 7, 7, 512)    524800      ['conv4_block6_out[0][0]']       \n",
            "                                                                                                  \n",
            " conv5_block1_1_bn (BatchNormal  (None, 7, 7, 512)   2048        ['conv5_block1_1_conv[0][0]']    \n",
            " ization)                                                                                         \n",
            "                                                                                                  \n",
            " conv5_block1_1_relu (Activatio  (None, 7, 7, 512)   0           ['conv5_block1_1_bn[0][0]']      \n",
            " n)                                                                                               \n",
            "                                                                                                  \n",
            " conv5_block1_2_conv (Conv2D)   (None, 7, 7, 512)    2359808     ['conv5_block1_1_relu[0][0]']    \n",
            "                                                                                                  \n",
            " conv5_block1_2_bn (BatchNormal  (None, 7, 7, 512)   2048        ['conv5_block1_2_conv[0][0]']    \n",
            " ization)                                                                                         \n",
            "                                                                                                  \n",
            " conv5_block1_2_relu (Activatio  (None, 7, 7, 512)   0           ['conv5_block1_2_bn[0][0]']      \n",
            " n)                                                                                               \n",
            "                                                                                                  \n",
            " conv5_block1_0_conv (Conv2D)   (None, 7, 7, 2048)   2099200     ['conv4_block6_out[0][0]']       \n",
            "                                                                                                  \n",
            " conv5_block1_3_conv (Conv2D)   (None, 7, 7, 2048)   1050624     ['conv5_block1_2_relu[0][0]']    \n",
            "                                                                                                  \n",
            " conv5_block1_0_bn (BatchNormal  (None, 7, 7, 2048)  8192        ['conv5_block1_0_conv[0][0]']    \n",
            " ization)                                                                                         \n",
            "                                                                                                  \n",
            " conv5_block1_3_bn (BatchNormal  (None, 7, 7, 2048)  8192        ['conv5_block1_3_conv[0][0]']    \n",
            " ization)                                                                                         \n",
            "                                                                                                  \n",
            " conv5_block1_add (Add)         (None, 7, 7, 2048)   0           ['conv5_block1_0_bn[0][0]',      \n",
            "                                                                  'conv5_block1_3_bn[0][0]']      \n",
            "                                                                                                  \n",
            " conv5_block1_out (Activation)  (None, 7, 7, 2048)   0           ['conv5_block1_add[0][0]']       \n",
            "                                                                                                  \n",
            " conv5_block2_1_conv (Conv2D)   (None, 7, 7, 512)    1049088     ['conv5_block1_out[0][0]']       \n",
            "                                                                                                  \n",
            " conv5_block2_1_bn (BatchNormal  (None, 7, 7, 512)   2048        ['conv5_block2_1_conv[0][0]']    \n",
            " ization)                                                                                         \n",
            "                                                                                                  \n",
            " conv5_block2_1_relu (Activatio  (None, 7, 7, 512)   0           ['conv5_block2_1_bn[0][0]']      \n",
            " n)                                                                                               \n",
            "                                                                                                  \n",
            " conv5_block2_2_conv (Conv2D)   (None, 7, 7, 512)    2359808     ['conv5_block2_1_relu[0][0]']    \n",
            "                                                                                                  \n",
            " conv5_block2_2_bn (BatchNormal  (None, 7, 7, 512)   2048        ['conv5_block2_2_conv[0][0]']    \n",
            " ization)                                                                                         \n",
            "                                                                                                  \n",
            " conv5_block2_2_relu (Activatio  (None, 7, 7, 512)   0           ['conv5_block2_2_bn[0][0]']      \n",
            " n)                                                                                               \n",
            "                                                                                                  \n",
            " conv5_block2_3_conv (Conv2D)   (None, 7, 7, 2048)   1050624     ['conv5_block2_2_relu[0][0]']    \n",
            "                                                                                                  \n",
            " conv5_block2_3_bn (BatchNormal  (None, 7, 7, 2048)  8192        ['conv5_block2_3_conv[0][0]']    \n",
            " ization)                                                                                         \n",
            "                                                                                                  \n",
            " conv5_block2_add (Add)         (None, 7, 7, 2048)   0           ['conv5_block1_out[0][0]',       \n",
            "                                                                  'conv5_block2_3_bn[0][0]']      \n",
            "                                                                                                  \n",
            " conv5_block2_out (Activation)  (None, 7, 7, 2048)   0           ['conv5_block2_add[0][0]']       \n",
            "                                                                                                  \n",
            " conv5_block3_1_conv (Conv2D)   (None, 7, 7, 512)    1049088     ['conv5_block2_out[0][0]']       \n",
            "                                                                                                  \n",
            " conv5_block3_1_bn (BatchNormal  (None, 7, 7, 512)   2048        ['conv5_block3_1_conv[0][0]']    \n",
            " ization)                                                                                         \n",
            "                                                                                                  \n",
            " conv5_block3_1_relu (Activatio  (None, 7, 7, 512)   0           ['conv5_block3_1_bn[0][0]']      \n",
            " n)                                                                                               \n",
            "                                                                                                  \n",
            " conv5_block3_2_conv (Conv2D)   (None, 7, 7, 512)    2359808     ['conv5_block3_1_relu[0][0]']    \n",
            "                                                                                                  \n",
            " conv5_block3_2_bn (BatchNormal  (None, 7, 7, 512)   2048        ['conv5_block3_2_conv[0][0]']    \n",
            " ization)                                                                                         \n",
            "                                                                                                  \n",
            " conv5_block3_2_relu (Activatio  (None, 7, 7, 512)   0           ['conv5_block3_2_bn[0][0]']      \n",
            " n)                                                                                               \n",
            "                                                                                                  \n",
            " conv5_block3_3_conv (Conv2D)   (None, 7, 7, 2048)   1050624     ['conv5_block3_2_relu[0][0]']    \n",
            "                                                                                                  \n",
            " conv5_block3_3_bn (BatchNormal  (None, 7, 7, 2048)  8192        ['conv5_block3_3_conv[0][0]']    \n",
            " ization)                                                                                         \n",
            "                                                                                                  \n",
            " conv5_block3_add (Add)         (None, 7, 7, 2048)   0           ['conv5_block2_out[0][0]',       \n",
            "                                                                  'conv5_block3_3_bn[0][0]']      \n",
            "                                                                                                  \n",
            " conv5_block3_out (Activation)  (None, 7, 7, 2048)   0           ['conv5_block3_add[0][0]']       \n",
            "                                                                                                  \n",
            " flatten (Flatten)              (None, 100352)       0           ['conv5_block3_out[0][0]']       \n",
            "                                                                                                  \n",
            " dense (Dense)                  (None, 3)            301059      ['flatten[0][0]']                \n",
            "                                                                                                  \n",
            "==================================================================================================\n",
            "Total params: 23,888,771\n",
            "Trainable params: 301,059\n",
            "Non-trainable params: 23,587,712\n",
            "__________________________________________________________________________________________________\n"
          ]
        }
      ]
    },
    {
      "cell_type": "code",
      "metadata": {
        "id": "EAB1NGmh-kly"
      },
      "source": [
        "model.compile(\n",
        "    loss = 'categorical_crossentropy',\n",
        "    optimizer = 'adam',\n",
        "    metrics = ['accuracy']\n",
        ")"
      ],
      "execution_count": 10,
      "outputs": []
    },
    {
      "cell_type": "code",
      "metadata": {
        "id": "EG5hVPKzCScY"
      },
      "source": [
        "from tensorflow.keras.preprocessing.image import ImageDataGenerator"
      ],
      "execution_count": 11,
      "outputs": []
    },
    {
      "cell_type": "code",
      "metadata": {
        "id": "4cmNlI4ZCf-W"
      },
      "source": [
        "train_datagen = ImageDataGenerator(rescale= 1./255,\n",
        "                                   shear_range = 0.2,\n",
        "                                   zoom_range = 0.2,\n",
        "                                   horizontal_flip=True)\n",
        "\n",
        "test_datagen = ImageDataGenerator(rescale = 1./255)"
      ],
      "execution_count": 12,
      "outputs": []
    },
    {
      "cell_type": "code",
      "metadata": {
        "colab": {
          "base_uri": "https://localhost:8080/"
        },
        "id": "cqf01Ja0DxgW",
        "outputId": "25d4205c-877f-4408-e680-11c7e6736b3e"
      },
      "source": [
        "training_set = train_datagen.flow_from_directory(\"/content/drive/MyDrive/Train\",\n",
        "                                                target_size= (224, 224),\n",
        "                                                batch_size= 32,\n",
        "                                                class_mode = 'categorical')"
      ],
      "execution_count": 13,
      "outputs": [
        {
          "output_type": "stream",
          "name": "stdout",
          "text": [
            "Found 64 images belonging to 3 classes.\n"
          ]
        }
      ]
    },
    {
      "cell_type": "code",
      "metadata": {
        "colab": {
          "base_uri": "https://localhost:8080/"
        },
        "id": "-x1t5fOuEUCJ",
        "outputId": "2b9fd45f-3d0c-4ae3-9ec7-d002d2a24960"
      },
      "source": [
        "test_set = test_datagen.flow_from_directory(\"/content/drive/MyDrive/Test\",\n",
        "                                            target_size = (224,224),\n",
        "                                            batch_size = 32,\n",
        "                                            class_mode = 'categorical')"
      ],
      "execution_count": 14,
      "outputs": [
        {
          "output_type": "stream",
          "name": "stdout",
          "text": [
            "Found 58 images belonging to 3 classes.\n"
          ]
        }
      ]
    },
    {
      "cell_type": "code",
      "metadata": {
        "colab": {
          "base_uri": "https://localhost:8080/"
        },
        "id": "9phgKFAVFvwv",
        "outputId": "b302024d-974e-4219-939c-6caff922ab7c"
      },
      "source": [
        "r = model.fit_generator(\n",
        "    training_set,\n",
        "    validation_data = test_set,\n",
        "    epochs = 50,\n",
        "    steps_per_epoch = len(training_set),\n",
        "    validation_steps = len(test_set)\n",
        ")"
      ],
      "execution_count": 15,
      "outputs": [
        {
          "output_type": "stream",
          "name": "stderr",
          "text": [
            "/usr/local/lib/python3.7/dist-packages/ipykernel_launcher.py:6: UserWarning: `Model.fit_generator` is deprecated and will be removed in a future version. Please use `Model.fit`, which supports generators.\n",
            "  \n"
          ]
        },
        {
          "output_type": "stream",
          "name": "stdout",
          "text": [
            "Epoch 1/50\n",
            "2/2 [==============================] - 50s 16s/step - loss: 4.8619 - accuracy: 0.3125 - val_loss: 16.0177 - val_accuracy: 0.1552\n",
            "Epoch 2/50\n",
            "2/2 [==============================] - 2s 1s/step - loss: 8.4677 - accuracy: 0.3750 - val_loss: 8.0307 - val_accuracy: 0.3276\n",
            "Epoch 3/50\n",
            "2/2 [==============================] - 2s 1s/step - loss: 5.3723 - accuracy: 0.3906 - val_loss: 4.3995 - val_accuracy: 0.5172\n",
            "Epoch 4/50\n",
            "2/2 [==============================] - 2s 1s/step - loss: 6.4827 - accuracy: 0.3125 - val_loss: 3.6595 - val_accuracy: 0.5172\n",
            "Epoch 5/50\n",
            "2/2 [==============================] - 2s 1s/step - loss: 2.7088 - accuracy: 0.4531 - val_loss: 3.7311 - val_accuracy: 0.1552\n",
            "Epoch 6/50\n",
            "2/2 [==============================] - 2s 1s/step - loss: 2.7548 - accuracy: 0.3750 - val_loss: 6.3225 - val_accuracy: 0.3276\n",
            "Epoch 7/50\n",
            "2/2 [==============================] - 2s 1s/step - loss: 3.5335 - accuracy: 0.5156 - val_loss: 4.8834 - val_accuracy: 0.2069\n",
            "Epoch 8/50\n",
            "2/2 [==============================] - 2s 1s/step - loss: 2.4231 - accuracy: 0.4688 - val_loss: 1.1755 - val_accuracy: 0.4655\n",
            "Epoch 9/50\n",
            "2/2 [==============================] - 2s 1s/step - loss: 0.9974 - accuracy: 0.6719 - val_loss: 2.2848 - val_accuracy: 0.5690\n",
            "Epoch 10/50\n",
            "2/2 [==============================] - 2s 1s/step - loss: 2.2958 - accuracy: 0.5000 - val_loss: 1.3699 - val_accuracy: 0.5517\n",
            "Epoch 11/50\n",
            "2/2 [==============================] - 2s 1s/step - loss: 1.0469 - accuracy: 0.5938 - val_loss: 2.2325 - val_accuracy: 0.3103\n",
            "Epoch 12/50\n",
            "2/2 [==============================] - 2s 1s/step - loss: 1.4163 - accuracy: 0.5781 - val_loss: 2.2289 - val_accuracy: 0.3448\n",
            "Epoch 13/50\n",
            "2/2 [==============================] - 2s 1s/step - loss: 0.9633 - accuracy: 0.6562 - val_loss: 1.1201 - val_accuracy: 0.5690\n",
            "Epoch 14/50\n",
            "2/2 [==============================] - 2s 1s/step - loss: 0.8151 - accuracy: 0.6719 - val_loss: 1.4099 - val_accuracy: 0.6207\n",
            "Epoch 15/50\n",
            "2/2 [==============================] - 2s 1s/step - loss: 0.9981 - accuracy: 0.6094 - val_loss: 1.0017 - val_accuracy: 0.5690\n",
            "Epoch 16/50\n",
            "2/2 [==============================] - 2s 1s/step - loss: 0.4899 - accuracy: 0.8125 - val_loss: 1.8305 - val_accuracy: 0.4138\n",
            "Epoch 17/50\n",
            "2/2 [==============================] - 2s 1s/step - loss: 0.8973 - accuracy: 0.7031 - val_loss: 1.4442 - val_accuracy: 0.5172\n",
            "Epoch 18/50\n",
            "2/2 [==============================] - 2s 1s/step - loss: 0.5945 - accuracy: 0.7656 - val_loss: 1.1205 - val_accuracy: 0.6379\n",
            "Epoch 19/50\n",
            "2/2 [==============================] - 2s 1s/step - loss: 0.8030 - accuracy: 0.6562 - val_loss: 1.0029 - val_accuracy: 0.6552\n",
            "Epoch 20/50\n",
            "2/2 [==============================] - 2s 1s/step - loss: 0.6142 - accuracy: 0.7188 - val_loss: 1.5369 - val_accuracy: 0.4655\n",
            "Epoch 21/50\n",
            "2/2 [==============================] - 2s 1s/step - loss: 0.6850 - accuracy: 0.7188 - val_loss: 1.1329 - val_accuracy: 0.5517\n",
            "Epoch 22/50\n",
            "2/2 [==============================] - 2s 1s/step - loss: 0.4338 - accuracy: 0.8125 - val_loss: 0.9444 - val_accuracy: 0.6379\n",
            "Epoch 23/50\n",
            "2/2 [==============================] - 2s 1s/step - loss: 0.5630 - accuracy: 0.7188 - val_loss: 0.9944 - val_accuracy: 0.6724\n",
            "Epoch 24/50\n",
            "2/2 [==============================] - 2s 1s/step - loss: 0.5094 - accuracy: 0.7344 - val_loss: 1.1165 - val_accuracy: 0.5862\n",
            "Epoch 25/50\n",
            "2/2 [==============================] - 2s 1s/step - loss: 0.4622 - accuracy: 0.7500 - val_loss: 1.0193 - val_accuracy: 0.6034\n",
            "Epoch 26/50\n",
            "2/2 [==============================] - 2s 1s/step - loss: 0.3893 - accuracy: 0.7969 - val_loss: 0.8957 - val_accuracy: 0.6897\n",
            "Epoch 27/50\n",
            "2/2 [==============================] - 2s 1s/step - loss: 0.3569 - accuracy: 0.8438 - val_loss: 0.9567 - val_accuracy: 0.6552\n",
            "Epoch 28/50\n",
            "2/2 [==============================] - 2s 1s/step - loss: 0.3686 - accuracy: 0.8125 - val_loss: 0.9296 - val_accuracy: 0.6724\n",
            "Epoch 29/50\n",
            "2/2 [==============================] - 2s 1s/step - loss: 0.3746 - accuracy: 0.8594 - val_loss: 0.9540 - val_accuracy: 0.6724\n",
            "Epoch 30/50\n",
            "2/2 [==============================] - 2s 1s/step - loss: 0.3109 - accuracy: 0.9219 - val_loss: 0.9346 - val_accuracy: 0.6552\n",
            "Epoch 31/50\n",
            "2/2 [==============================] - 2s 1s/step - loss: 0.3556 - accuracy: 0.8594 - val_loss: 0.8823 - val_accuracy: 0.6724\n",
            "Epoch 32/50\n",
            "2/2 [==============================] - 2s 1s/step - loss: 0.2780 - accuracy: 0.9062 - val_loss: 0.9030 - val_accuracy: 0.6897\n",
            "Epoch 33/50\n",
            "2/2 [==============================] - 2s 1s/step - loss: 0.2693 - accuracy: 0.9062 - val_loss: 0.9438 - val_accuracy: 0.6207\n",
            "Epoch 34/50\n",
            "2/2 [==============================] - 2s 1s/step - loss: 0.2712 - accuracy: 0.9062 - val_loss: 0.9063 - val_accuracy: 0.6724\n",
            "Epoch 35/50\n",
            "2/2 [==============================] - 2s 1s/step - loss: 0.2502 - accuracy: 0.9375 - val_loss: 0.8578 - val_accuracy: 0.7241\n",
            "Epoch 36/50\n",
            "2/2 [==============================] - 2s 1s/step - loss: 0.2681 - accuracy: 0.9062 - val_loss: 0.8492 - val_accuracy: 0.6897\n",
            "Epoch 37/50\n",
            "2/2 [==============================] - 2s 1s/step - loss: 0.3061 - accuracy: 0.8438 - val_loss: 0.9727 - val_accuracy: 0.6724\n",
            "Epoch 38/50\n",
            "2/2 [==============================] - 2s 1s/step - loss: 0.2589 - accuracy: 0.9219 - val_loss: 0.8587 - val_accuracy: 0.7069\n",
            "Epoch 39/50\n",
            "2/2 [==============================] - 2s 1s/step - loss: 0.2704 - accuracy: 0.9062 - val_loss: 0.8464 - val_accuracy: 0.7241\n",
            "Epoch 40/50\n",
            "2/2 [==============================] - 2s 1s/step - loss: 0.2544 - accuracy: 0.9219 - val_loss: 0.9921 - val_accuracy: 0.6724\n",
            "Epoch 41/50\n",
            "2/2 [==============================] - 2s 1s/step - loss: 0.2620 - accuracy: 0.9062 - val_loss: 0.8448 - val_accuracy: 0.7586\n",
            "Epoch 42/50\n",
            "2/2 [==============================] - 2s 1s/step - loss: 0.2642 - accuracy: 0.9062 - val_loss: 0.8516 - val_accuracy: 0.7414\n",
            "Epoch 43/50\n",
            "2/2 [==============================] - 2s 1s/step - loss: 0.2130 - accuracy: 0.9375 - val_loss: 0.9663 - val_accuracy: 0.6897\n",
            "Epoch 44/50\n",
            "2/2 [==============================] - 2s 1s/step - loss: 0.2540 - accuracy: 0.9062 - val_loss: 0.8484 - val_accuracy: 0.7586\n",
            "Epoch 45/50\n",
            "2/2 [==============================] - 2s 1s/step - loss: 0.2335 - accuracy: 0.9219 - val_loss: 0.8543 - val_accuracy: 0.7586\n",
            "Epoch 46/50\n",
            "2/2 [==============================] - 2s 1s/step - loss: 0.2116 - accuracy: 0.9375 - val_loss: 0.9020 - val_accuracy: 0.6724\n",
            "Epoch 47/50\n",
            "2/2 [==============================] - 2s 1s/step - loss: 0.2328 - accuracy: 0.9375 - val_loss: 0.8683 - val_accuracy: 0.7586\n",
            "Epoch 48/50\n",
            "2/2 [==============================] - 2s 1s/step - loss: 0.1872 - accuracy: 0.9844 - val_loss: 0.8666 - val_accuracy: 0.7414\n",
            "Epoch 49/50\n",
            "2/2 [==============================] - 2s 1s/step - loss: 0.2422 - accuracy: 0.9375 - val_loss: 0.8942 - val_accuracy: 0.6897\n",
            "Epoch 50/50\n",
            "2/2 [==============================] - 2s 1s/step - loss: 0.2021 - accuracy: 0.9219 - val_loss: 0.9787 - val_accuracy: 0.6724\n"
          ]
        }
      ]
    },
    {
      "cell_type": "code",
      "metadata": {
        "id": "dAYqk9tvGuet",
        "colab": {
          "base_uri": "https://localhost:8080/",
          "height": 530
        },
        "outputId": "1cb047ac-20fa-4ac4-99f2-107cc994c384"
      },
      "source": [
        "plt.plot(r.history['loss'], label='train loss')\n",
        "plt.plot(r.history['val_loss'], label = 'validation loss')\n",
        "plt.legend()\n",
        "plt.show()\n",
        "plt.savefig('loss_values')\n",
        "\n",
        "plt.plot(r.history['accuracy'], label='train acuracy')\n",
        "plt.plot(r.history['val_accuracy'], label= 'validation accuracy')\n",
        "plt.legend()\n",
        "plt.show()\n",
        "plt.savefig('accuracy_values')"
      ],
      "execution_count": 35,
      "outputs": [
        {
          "output_type": "display_data",
          "data": {
            "image/png": "[encoded data removed]",
            "text/plain": [
              "<Figure size 432x288 with 1 Axes>"
            ]
          },
          "metadata": {
            "needs_background": "light"
          }
        },
        {
          "output_type": "display_data",
          "data": {
            "image/png": "[encoded data removed]",
            "text/plain": [
              "<Figure size 432x288 with 1 Axes>"
            ]
          },
          "metadata": {
            "needs_background": "light"
          }
        },
        {
          "output_type": "display_data",
          "data": {
            "text/plain": [
              "<Figure size 432x288 with 0 Axes>"
            ]
          },
          "metadata": {}
        }
      ]
    },
    {
      "cell_type": "code",
      "metadata": {
        "colab": {
          "base_uri": "https://localhost:8080/"
        },
        "id": "jhOz2tbSkRk4",
        "outputId": "4e4d2a9a-d77f-4ce2-d69e-0efc4e5f99b7"
      },
      "source": [
        "from tensorflow.keras.models import load_model\n",
        "model.save('model_resnet50.h5')"
      ],
      "execution_count": 36,
      "outputs": [
        {
          "output_type": "stream",
          "name": "stderr",
          "text": [
            "/usr/local/lib/python3.7/dist-packages/keras/engine/functional.py:1410: CustomMaskWarning: Custom mask layers require a config and must override get_config. When loading, the custom mask layer must be passed to the custom_objects argument.\n",
            "  layer_config = serialize_layer_fn(layer)\n"
          ]
        }
      ]
    },
    {
      "cell_type": "code",
      "metadata": {
        "colab": {
          "base_uri": "https://localhost:8080/"
        },
        "id": "AN36J-hJmpCn",
        "outputId": "b1f4cf32-934a-46ca-e735-6bf9b3c0d6e2"
      },
      "source": [
        "y_pred = model.predict(test_set)\n",
        "y_pred"
      ],
      "execution_count": 37,
      "outputs": [
        {
          "output_type": "execute_result",
          "data": {
            "text/plain": [
              "array([[2.03794405e-01, 2.78240353e-01, 5.17965257e-01],\n",
              "       [8.62974823e-01, 1.22551665e-01, 1.44735547e-02],\n",
              "       [5.69830127e-02, 2.61276811e-01, 6.81740224e-01],\n",
              "       [2.38098316e-02, 3.87600243e-01, 5.88589907e-01],\n",
              "       [5.83045222e-02, 6.79561198e-01, 2.62134254e-01],\n",
              "       [5.17905116e-01, 1.37144387e-01, 3.44950497e-01],\n",
              "       [2.69088540e-02, 8.64642739e-01, 1.08448431e-01],\n",
              "       [2.89527327e-03, 8.51650953e-01, 1.45453736e-01],\n",
              "       [1.51598565e-02, 8.57608795e-01, 1.27231330e-01],\n",
              "       [6.30186200e-01, 5.06950310e-03, 3.64744306e-01],\n",
              "       [6.15612546e-04, 6.08431518e-01, 3.90952826e-01],\n",
              "       [3.22116204e-02, 1.42547372e-03, 9.66362894e-01],\n",
              "       [1.74673330e-02, 8.44294652e-02, 8.98103178e-01],\n",
              "       [1.78543642e-01, 2.62855798e-01, 5.58600545e-01],\n",
              "       [5.11667738e-03, 8.84955764e-01, 1.09927535e-01],\n",
              "       [3.07732150e-02, 1.64126381e-01, 8.05100381e-01],\n",
              "       [2.25692848e-03, 1.20305018e-02, 9.85712528e-01],\n",
              "       [9.61654663e-01, 1.01443678e-02, 2.82010175e-02],\n",
              "       [3.32938164e-01, 5.58600605e-01, 1.08461231e-01],\n",
              "       [4.85580618e-04, 9.52289224e-01, 4.72252481e-02],\n",
              "       [2.29210287e-01, 2.26811007e-01, 5.43978691e-01],\n",
              "       [7.05491677e-02, 4.14893627e-02, 8.87961507e-01],\n",
              "       [4.89157587e-02, 6.94501773e-03, 9.44139242e-01],\n",
              "       [6.81284070e-02, 1.81394577e-01, 7.50477016e-01],\n",
              "       [2.87803203e-01, 2.81213187e-02, 6.84075475e-01],\n",
              "       [4.06359397e-02, 3.71018082e-01, 5.88345945e-01],\n",
              "       [2.34657750e-02, 3.72651778e-02, 9.39269006e-01],\n",
              "       [2.22477410e-02, 8.71939778e-01, 1.05812490e-01],\n",
              "       [2.23233834e-01, 4.12294567e-01, 3.64471555e-01],\n",
              "       [9.89599247e-03, 9.86053884e-01, 4.05012909e-03],\n",
              "       [3.73964347e-02, 1.82666242e-01, 7.79937327e-01],\n",
              "       [8.94355297e-01, 3.15047167e-02, 7.41399899e-02],\n",
              "       [2.01959871e-02, 2.86697090e-01, 6.93106949e-01],\n",
              "       [4.79630080e-06, 5.26115655e-05, 9.99942541e-01],\n",
              "       [1.21484669e-02, 9.33191299e-01, 5.46601787e-02],\n",
              "       [3.44767757e-02, 5.58877051e-01, 4.06646192e-01],\n",
              "       [1.65938735e-02, 8.35447431e-01, 1.47958681e-01],\n",
              "       [5.43791465e-02, 3.06154341e-01, 6.39466584e-01],\n",
              "       [5.68391802e-03, 1.97785243e-01, 7.96530843e-01],\n",
              "       [2.40371041e-02, 2.76627392e-01, 6.99335515e-01],\n",
              "       [6.41681859e-03, 9.41141043e-04, 9.92641985e-01],\n",
              "       [7.58788688e-03, 2.05735024e-03, 9.90354776e-01],\n",
              "       [1.80424917e-02, 8.74215621e-05, 9.81870055e-01],\n",
              "       [3.26969773e-02, 8.02334491e-03, 9.59279656e-01],\n",
              "       [1.18834071e-01, 1.21398114e-01, 7.59767830e-01],\n",
              "       [8.19520116e-01, 7.95839280e-02, 1.00895986e-01],\n",
              "       [2.07619473e-06, 3.97048920e-04, 9.99600947e-01],\n",
              "       [7.35968590e-01, 1.42890126e-01, 1.21141307e-01],\n",
              "       [2.01575435e-03, 9.84709144e-01, 1.32751530e-02],\n",
              "       [1.55835420e-01, 4.58464324e-01, 3.85700256e-01],\n",
              "       [8.88359696e-02, 8.50234389e-01, 6.09296113e-02],\n",
              "       [2.69126538e-02, 6.18298709e-01, 3.54788631e-01],\n",
              "       [2.03613881e-02, 5.60737908e-01, 4.18900698e-01],\n",
              "       [5.07790558e-02, 5.65896511e-01, 3.83324385e-01],\n",
              "       [6.84253778e-03, 9.29705977e-01, 6.34514615e-02],\n",
              "       [3.31750751e-01, 2.17784584e-01, 4.50464666e-01],\n",
              "       [1.12242969e-02, 9.68736485e-02, 8.91902030e-01],\n",
              "       [5.94176073e-03, 3.68846476e-01, 6.25211775e-01]], dtype=float32)"
            ]
          },
          "metadata": {},
          "execution_count": 37
        }
      ]
    },
    {
      "cell_type": "code",
      "metadata": {
        "colab": {
          "base_uri": "https://localhost:8080/"
        },
        "id": "iQa_Knpmmz_1",
        "outputId": "e75b6e38-6c2d-4851-a9d2-e52d31d5e2c7"
      },
      "source": [
        "import numpy as np\n",
        "y_pred = np.argmax(y_pred, axis=1)\n",
        "y_pred"
      ],
      "execution_count": 38,
      "outputs": [
        {
          "output_type": "execute_result",
          "data": {
            "text/plain": [
              "array([2, 0, 2, 2, 1, 0, 1, 1, 1, 0, 1, 2, 2, 2, 1, 2, 2, 0, 1, 1, 2, 2,\n",
              "       2, 2, 2, 2, 2, 1, 1, 1, 2, 0, 2, 2, 1, 1, 1, 2, 2, 2, 2, 2, 2, 2,\n",
              "       2, 0, 2, 0, 1, 1, 1, 1, 1, 1, 1, 2, 2, 2])"
            ]
          },
          "metadata": {},
          "execution_count": 38
        }
      ]
    },
    {
      "cell_type": "code",
      "metadata": {
        "id": "qBP_rOCopQAJ"
      },
      "source": [
        "from tensorflow.keras.preprocessing import image"
      ],
      "execution_count": 39,
      "outputs": []
    },
    {
      "cell_type": "code",
      "metadata": {
        "id": "LEG4cAVrpXPp"
      },
      "source": [
        "model = load_model('model_resnet50.h5')"
      ],
      "execution_count": 40,
      "outputs": []
    },
    {
      "cell_type": "code",
      "metadata": {
        "id": "IPx1OgNrp0bS"
      },
      "source": [
        "img = image.load_img('/content/drive/MyDrive/Test/lamborghini/11.jpg', target_size=(224,224))"
      ],
      "execution_count": 41,
      "outputs": []
    },
    {
      "cell_type": "code",
      "metadata": {
        "colab": {
          "base_uri": "https://localhost:8080/"
        },
        "id": "P_Xi3IM-q4__",
        "outputId": "22db7f07-e53d-4e30-9b1d-2dda96deafdc"
      },
      "source": [
        "x = image.img_to_array(img)\n",
        "x"
      ],
      "execution_count": 42,
      "outputs": [
        {
          "output_type": "execute_result",
          "data": {
            "text/plain": [
              "array([[[252., 252., 252.],\n",
              "        [252., 252., 252.],\n",
              "        [252., 252., 252.],\n",
              "        ...,\n",
              "        [196., 187., 172.],\n",
              "        [217., 208., 193.],\n",
              "        [243., 234., 219.]],\n",
              "\n",
              "       [[252., 252., 252.],\n",
              "        [252., 252., 252.],\n",
              "        [252., 252., 252.],\n",
              "        ...,\n",
              "        [245., 245., 237.],\n",
              "        [243., 243., 235.],\n",
              "        [242., 242., 234.]],\n",
              "\n",
              "       [[252., 252., 252.],\n",
              "        [252., 252., 252.],\n",
              "        [252., 252., 252.],\n",
              "        ...,\n",
              "        [240., 249., 248.],\n",
              "        [242., 251., 250.],\n",
              "        [242., 251., 250.]],\n",
              "\n",
              "       ...,\n",
              "\n",
              "       [[189., 207., 229.],\n",
              "        [190., 206., 229.],\n",
              "        [190., 206., 229.],\n",
              "        ...,\n",
              "        [171., 180., 187.],\n",
              "        [171., 180., 187.],\n",
              "        [171., 180., 187.]],\n",
              "\n",
              "       [[185., 206., 227.],\n",
              "        [185., 206., 227.],\n",
              "        [185., 206., 227.],\n",
              "        ...,\n",
              "        [171., 180., 187.],\n",
              "        [171., 180., 187.],\n",
              "        [171., 180., 187.]],\n",
              "\n",
              "       [[185., 206., 227.],\n",
              "        [185., 206., 227.],\n",
              "        [185., 206., 227.],\n",
              "        ...,\n",
              "        [171., 180., 187.],\n",
              "        [171., 180., 187.],\n",
              "        [171., 180., 187.]]], dtype=float32)"
            ]
          },
          "metadata": {},
          "execution_count": 42
        }
      ]
    },
    {
      "cell_type": "code",
      "metadata": {
        "colab": {
          "base_uri": "https://localhost:8080/"
        },
        "id": "SY0GguiUrE2d",
        "outputId": "4ed88f80-453b-48f0-bb82-99a3204095f7"
      },
      "source": [
        "x.shape"
      ],
      "execution_count": 43,
      "outputs": [
        {
          "output_type": "execute_result",
          "data": {
            "text/plain": [
              "(224, 224, 3)"
            ]
          },
          "metadata": {},
          "execution_count": 43
        }
      ]
    },
    {
      "cell_type": "code",
      "metadata": {
        "id": "HwII0pWGrPmQ"
      },
      "source": [
        "x=x/255"
      ],
      "execution_count": 44,
      "outputs": []
    },
    {
      "cell_type": "code",
      "metadata": {
        "colab": {
          "base_uri": "https://localhost:8080/"
        },
        "id": "sPP-RmdtrRKj",
        "outputId": "e14a76f9-5bc8-407c-ba17-ccaa50653513"
      },
      "source": [
        "x = np.expand_dims(x, axis=0)\n",
        "img_data = preprocess_input(x)\n",
        "img_data.shape"
      ],
      "execution_count": 45,
      "outputs": [
        {
          "output_type": "execute_result",
          "data": {
            "text/plain": [
              "(1, 224, 224, 3)"
            ]
          },
          "metadata": {},
          "execution_count": 45
        }
      ]
    },
    {
      "cell_type": "code",
      "metadata": {
        "id": "mIOLn6K-tFPJ"
      },
      "source": [
        "y = model.predict(img_data)"
      ],
      "execution_count": 46,
      "outputs": []
    },
    {
      "cell_type": "code",
      "metadata": {
        "id": "KAgUosjutJQw"
      },
      "source": [
        "a = np.argmax(y, axis=1)"
      ],
      "execution_count": 47,
      "outputs": []
    },
    {
      "cell_type": "code",
      "metadata": {
        "colab": {
          "base_uri": "https://localhost:8080/"
        },
        "id": "COUBqm8TvXNs",
        "outputId": "3006fc35-625d-4175-85ac-8e0d64fb8059"
      },
      "source": [
        "a"
      ],
      "execution_count": 48,
      "outputs": [
        {
          "output_type": "execute_result",
          "data": {
            "text/plain": [
              "array([2])"
            ]
          },
          "metadata": {},
          "execution_count": 48
        }
      ]
    },
    {
      "cell_type": "code",
      "metadata": {
        "id": "n29cYufevXnT"
      },
      "source": [
        ""
      ],
      "execution_count": null,
      "outputs": []
    }
  ]
}